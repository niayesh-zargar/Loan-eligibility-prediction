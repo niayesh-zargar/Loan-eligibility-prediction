{
 "cells": [
  {
   "cell_type": "code",
   "execution_count": 1,
   "id": "8d21fd73",
   "metadata": {},
   "outputs": [],
   "source": [
    "import pandas as pd\n",
    "from sklearn.model_selection import train_test_split\n",
    "from sklearn.preprocessing import LabelEncoder\n",
    "from sklearn.linear_model import LogisticRegression\n",
    "from sklearn.metrics import accuracy_score, classification_report\n",
    "from sklearn.preprocessing import StandardScaler\n",
    "from sklearn.neighbors import KNeighborsClassifier\n",
    "from sklearn.neural_network import MLPClassifier\n",
    "from sklearn.model_selection import GridSearchCV\n"
   ]
  },
  {
   "cell_type": "markdown",
   "id": "4cc74c8e",
   "metadata": {},
   "source": [
    "First, we'll see a roundup of the dataset."
   ]
  },
  {
   "cell_type": "code",
   "execution_count": null,
   "id": "87b2f092",
   "metadata": {},
   "outputs": [
    {
     "name": "stdout",
     "output_type": "stream",
     "text": [
      "\n",
      "Info :\n",
      "<class 'pandas.core.frame.DataFrame'>\n",
      "RangeIndex: 614 entries, 0 to 613\n",
      "Data columns (total 12 columns):\n",
      " #   Column             Non-Null Count  Dtype  \n",
      "---  ------             --------------  -----  \n",
      " 0   Gender             601 non-null    object \n",
      " 1   Married            611 non-null    object \n",
      " 2   Dependents         599 non-null    object \n",
      " 3   Education          614 non-null    object \n",
      " 4   Self_Employed      582 non-null    object \n",
      " 5   ApplicantIncome    614 non-null    int64  \n",
      " 6   CoapplicantIncome  614 non-null    float64\n",
      " 7   LoanAmount         592 non-null    float64\n",
      " 8   Loan_Amount_Term   600 non-null    float64\n",
      " 9   Credit_History     564 non-null    float64\n",
      " 10  Property_Area      614 non-null    object \n",
      " 11  Loan_Status        614 non-null    object \n",
      "dtypes: float64(4), int64(1), object(7)\n",
      "memory usage: 57.7+ KB\n",
      "\n",
      "NAN values :\n",
      "  Gender               13\n",
      "Married               3\n",
      "Dependents           15\n",
      "Education             0\n",
      "Self_Employed        32\n",
      "ApplicantIncome       0\n",
      "CoapplicantIncome     0\n",
      "LoanAmount           22\n",
      "Loan_Amount_Term     14\n",
      "Credit_History       50\n",
      "Property_Area         0\n",
      "Loan_Status           0\n",
      "dtype: int64\n",
      "\n",
      "Head:\n"
     ]
    },
    {
     "data": {
      "text/html": [
       "<div>\n",
       "<style scoped>\n",
       "    .dataframe tbody tr th:only-of-type {\n",
       "        vertical-align: middle;\n",
       "    }\n",
       "\n",
       "    .dataframe tbody tr th {\n",
       "        vertical-align: top;\n",
       "    }\n",
       "\n",
       "    .dataframe thead th {\n",
       "        text-align: right;\n",
       "    }\n",
       "</style>\n",
       "<table border=\"1\" class=\"dataframe\">\n",
       "  <thead>\n",
       "    <tr style=\"text-align: right;\">\n",
       "      <th></th>\n",
       "      <th>Gender</th>\n",
       "      <th>Married</th>\n",
       "      <th>Dependents</th>\n",
       "      <th>Education</th>\n",
       "      <th>Self_Employed</th>\n",
       "      <th>ApplicantIncome</th>\n",
       "      <th>CoapplicantIncome</th>\n",
       "      <th>LoanAmount</th>\n",
       "      <th>Loan_Amount_Term</th>\n",
       "      <th>Credit_History</th>\n",
       "      <th>Property_Area</th>\n",
       "      <th>Loan_Status</th>\n",
       "    </tr>\n",
       "  </thead>\n",
       "  <tbody>\n",
       "    <tr>\n",
       "      <th>0</th>\n",
       "      <td>Male</td>\n",
       "      <td>No</td>\n",
       "      <td>0</td>\n",
       "      <td>Graduate</td>\n",
       "      <td>No</td>\n",
       "      <td>5849</td>\n",
       "      <td>0.0</td>\n",
       "      <td>NaN</td>\n",
       "      <td>360.0</td>\n",
       "      <td>1.0</td>\n",
       "      <td>Urban</td>\n",
       "      <td>Y</td>\n",
       "    </tr>\n",
       "    <tr>\n",
       "      <th>1</th>\n",
       "      <td>Male</td>\n",
       "      <td>Yes</td>\n",
       "      <td>1</td>\n",
       "      <td>Graduate</td>\n",
       "      <td>No</td>\n",
       "      <td>4583</td>\n",
       "      <td>1508.0</td>\n",
       "      <td>128.0</td>\n",
       "      <td>360.0</td>\n",
       "      <td>1.0</td>\n",
       "      <td>Rural</td>\n",
       "      <td>N</td>\n",
       "    </tr>\n",
       "    <tr>\n",
       "      <th>2</th>\n",
       "      <td>Male</td>\n",
       "      <td>Yes</td>\n",
       "      <td>0</td>\n",
       "      <td>Graduate</td>\n",
       "      <td>Yes</td>\n",
       "      <td>3000</td>\n",
       "      <td>0.0</td>\n",
       "      <td>66.0</td>\n",
       "      <td>360.0</td>\n",
       "      <td>1.0</td>\n",
       "      <td>Urban</td>\n",
       "      <td>Y</td>\n",
       "    </tr>\n",
       "    <tr>\n",
       "      <th>3</th>\n",
       "      <td>Male</td>\n",
       "      <td>Yes</td>\n",
       "      <td>0</td>\n",
       "      <td>Not Graduate</td>\n",
       "      <td>No</td>\n",
       "      <td>2583</td>\n",
       "      <td>2358.0</td>\n",
       "      <td>120.0</td>\n",
       "      <td>360.0</td>\n",
       "      <td>1.0</td>\n",
       "      <td>Urban</td>\n",
       "      <td>Y</td>\n",
       "    </tr>\n",
       "    <tr>\n",
       "      <th>4</th>\n",
       "      <td>Male</td>\n",
       "      <td>No</td>\n",
       "      <td>0</td>\n",
       "      <td>Graduate</td>\n",
       "      <td>No</td>\n",
       "      <td>6000</td>\n",
       "      <td>0.0</td>\n",
       "      <td>141.0</td>\n",
       "      <td>360.0</td>\n",
       "      <td>1.0</td>\n",
       "      <td>Urban</td>\n",
       "      <td>Y</td>\n",
       "    </tr>\n",
       "  </tbody>\n",
       "</table>\n",
       "</div>"
      ],
      "text/plain": [
       "  Gender Married Dependents     Education Self_Employed  ApplicantIncome  \\\n",
       "0   Male      No          0      Graduate            No             5849   \n",
       "1   Male     Yes          1      Graduate            No             4583   \n",
       "2   Male     Yes          0      Graduate           Yes             3000   \n",
       "3   Male     Yes          0  Not Graduate            No             2583   \n",
       "4   Male      No          0      Graduate            No             6000   \n",
       "\n",
       "   CoapplicantIncome  LoanAmount  Loan_Amount_Term  Credit_History  \\\n",
       "0                0.0         NaN             360.0             1.0   \n",
       "1             1508.0       128.0             360.0             1.0   \n",
       "2                0.0        66.0             360.0             1.0   \n",
       "3             2358.0       120.0             360.0             1.0   \n",
       "4                0.0       141.0             360.0             1.0   \n",
       "\n",
       "  Property_Area Loan_Status  \n",
       "0         Urban           Y  \n",
       "1         Rural           N  \n",
       "2         Urban           Y  \n",
       "3         Urban           Y  \n",
       "4         Urban           Y  "
      ]
     },
     "execution_count": 2,
     "metadata": {},
     "output_type": "execute_result"
    }
   ],
   "source": [
    "# Read loan\n",
    "Loan_DataSet = pd.read_csv('dataset/loan.csv')\n",
    "\n",
    "# Info\n",
    "print(\"\\nInfo :\")\n",
    "Loan_DataSet.info()\n",
    "\n",
    "# Count NAN values \n",
    "print(\"\\nNAN values :\\n \",Loan_DataSet.isna().sum())\n",
    "\n",
    "# Head \n",
    "print(\"\\nHead:\")\n",
    "Loan_DataSet.head()"
   ]
  },
  {
   "cell_type": "markdown",
   "id": "32b09d26",
   "metadata": {},
   "source": [
    "After that we handel missing values."
   ]
  },
  {
   "cell_type": "code",
   "execution_count": 3,
   "id": "5f88e359",
   "metadata": {},
   "outputs": [
    {
     "name": "stderr",
     "output_type": "stream",
     "text": [
      "C:\\Users\\MEHR GOSTAR\\AppData\\Local\\Temp\\ipykernel_7732\\2797022704.py:3: FutureWarning: A value is trying to be set on a copy of a DataFrame or Series through chained assignment using an inplace method.\n",
      "The behavior will change in pandas 3.0. This inplace method will never work because the intermediate object on which we are setting values always behaves as a copy.\n",
      "\n",
      "For example, when doing 'df[col].method(value, inplace=True)', try using 'df.method({col: value}, inplace=True)' or df[col] = df[col].method(value) instead, to perform the operation inplace on the original object.\n",
      "\n",
      "\n",
      "  Loan_DataSet[column].fillna(Loan_DataSet[column].mode()[0], inplace=True)\n",
      "C:\\Users\\MEHR GOSTAR\\AppData\\Local\\Temp\\ipykernel_7732\\2797022704.py:6: FutureWarning: A value is trying to be set on a copy of a DataFrame or Series through chained assignment using an inplace method.\n",
      "The behavior will change in pandas 3.0. This inplace method will never work because the intermediate object on which we are setting values always behaves as a copy.\n",
      "\n",
      "For example, when doing 'df[col].method(value, inplace=True)', try using 'df.method({col: value}, inplace=True)' or df[col] = df[col].method(value) instead, to perform the operation inplace on the original object.\n",
      "\n",
      "\n",
      "  Loan_DataSet['LoanAmount'].fillna(Loan_DataSet['LoanAmount'].median(), inplace=True)\n"
     ]
    }
   ],
   "source": [
    "# Fill categorical columnumns with the mode\n",
    "for column in ['Gender', 'Married', 'Self_Employed','Credit_History','Loan_Amount_Term','Dependents']:\n",
    "    Loan_DataSet[column].fillna(Loan_DataSet[column].mode()[0], inplace=True)\n",
    "\n",
    "# Fill LoanAmount with median\n",
    "Loan_DataSet['LoanAmount'].fillna(Loan_DataSet['LoanAmount'].median(), inplace=True)\n"
   ]
  },
  {
   "cell_type": "markdown",
   "id": "1617e147",
   "metadata": {},
   "source": [
    "Encoding Categorical Variables"
   ]
  },
  {
   "cell_type": "code",
   "execution_count": 4,
   "id": "b805e88a",
   "metadata": {},
   "outputs": [],
   "source": [
    "# Convert '3+' to 3 and cast to int\n",
    "Loan_DataSet['Dependents'] = Loan_DataSet['Dependents'].replace('3+', 3).astype(int)\n",
    "\n",
    "# Encode the target variable: Y = 1, N = 0\n",
    "Loan_DataSet['Loan_Status'] = Loan_DataSet['Loan_Status'].map({'Y': 1, 'N': 0})\n",
    "\n",
    "# List of categorical columns to encode\n",
    "categorical_columns = ['Gender', 'Married', 'Education', 'Self_Employed', 'Property_Area']\n",
    "\n",
    "# Apply LabelEncoder\n",
    "label_encoders = {}\n",
    "\n",
    "for column in categorical_columns:\n",
    "    label_encoder = LabelEncoder()\n",
    "    Loan_DataSet[column] = label_encoder .fit_transform(Loan_DataSet[column])\n",
    "    # label_encoders[column] = label_encoder   "
   ]
  },
  {
   "cell_type": "markdown",
   "id": "7d365248",
   "metadata": {},
   "source": [
    "> In this project, we observed that scaling had a significant effect on KNN and ANN, while Logistic Regression performed equally well with or without scaling."
   ]
  },
  {
   "cell_type": "markdown",
   "id": "db2b20bb",
   "metadata": {},
   "source": [
    "Splitting the Dataset"
   ]
  },
  {
   "cell_type": "code",
   "execution_count": 5,
   "id": "becd52bb",
   "metadata": {},
   "outputs": [],
   "source": [
    "# Separate features and label\n",
    "X = Loan_DataSet.drop(\"Loan_Status\", axis=1)\n",
    "y = Loan_DataSet[\"Loan_Status\"]\n",
    "\n",
    "# Step 1: Split off 15% for the test set\n",
    "X_train_val, X_test, y_train_val, y_test = train_test_split(X, y, test_size=0.15, random_state=42, stratify=y)\n",
    "\n",
    "# Step 2: From the remaining 85%, split 20% for validation (0.2 of 0.85 ≈ 0.235)\n",
    "X_train, X_val, y_train, y_val = train_test_split(X_train_val, y_train_val, test_size=0.235, random_state=42, stratify=y_train_val)\n"
   ]
  },
  {
   "cell_type": "markdown",
   "id": "d4d57321",
   "metadata": {},
   "source": [
    "Feature scaling"
   ]
  },
  {
   "cell_type": "code",
   "execution_count": 6,
   "id": "ebef7e22",
   "metadata": {},
   "outputs": [],
   "source": [
    "scaler = StandardScaler()\n",
    "\n",
    "X_train_scaled = scaler.fit_transform(X_train)\n",
    "X_val_scaled = scaler.transform(X_val)\n",
    "X_test_scaled = scaler.transform(X_test)\n"
   ]
  },
  {
   "cell_type": "markdown",
   "id": "ea85ab42",
   "metadata": {},
   "source": [
    "### Logistic Regression - With and Without Feature Scaling\n",
    "#### Data Scaling Comparison"
   ]
  },
  {
   "cell_type": "code",
   "execution_count": 7,
   "id": "79246ab4",
   "metadata": {},
   "outputs": [
    {
     "name": "stdout",
     "output_type": "stream",
     "text": [
      "Logistic Regression WITHOUT Scaling\n",
      "Validation Accuracy: 0.7805\n",
      "Test Accuracy: 0.8495\n",
      "\n",
      "Classification Report (Validation):\n",
      "               precision    recall  f1-score   support\n",
      "\n",
      "           0       0.82      0.37      0.51        38\n",
      "           1       0.77      0.96      0.86        85\n",
      "\n",
      "    accuracy                           0.78       123\n",
      "   macro avg       0.80      0.67      0.68       123\n",
      "weighted avg       0.79      0.78      0.75       123\n",
      "\n",
      "Logistic Regression WITH Scaling\n",
      "Validation Accuracy: 0.7805\n",
      "Test Accuracy: 0.8495\n",
      "\n",
      "Classification Report (Validation):\n",
      "               precision    recall  f1-score   support\n",
      "\n",
      "           0       0.82      0.37      0.51        38\n",
      "           1       0.77      0.96      0.86        85\n",
      "\n",
      "    accuracy                           0.78       123\n",
      "   macro avg       0.80      0.67      0.68       123\n",
      "weighted avg       0.79      0.78      0.75       123\n",
      "\n"
     ]
    }
   ],
   "source": [
    "# (1) Without Scaling\n",
    "logistic_model_raw = LogisticRegression(solver='liblinear', max_iter=1000, random_state=42)\n",
    "logistic_model_raw.fit(X_train, y_train)\n",
    "\n",
    "y_val_pred_raw = logistic_model_raw.predict(X_val)\n",
    "y_test_pred_raw = logistic_model_raw.predict(X_test)\n",
    "\n",
    "val_acc_raw = accuracy_score(y_val, y_val_pred_raw)\n",
    "test_acc_raw = accuracy_score(y_test, y_test_pred_raw)\n",
    "\n",
    "print(\"Logistic Regression WITHOUT Scaling\")\n",
    "print(f\"Validation Accuracy: {val_acc_raw:.4f}\")\n",
    "print(f\"Test Accuracy: {test_acc_raw:.4f}\")\n",
    "print(\"\\nClassification Report (Validation):\\n\", classification_report(y_val, y_val_pred_raw))\n",
    "\n",
    "\n",
    "# (2) With Scaling\n",
    "\n",
    "logistic_model_scaled = LogisticRegression(solver='liblinear', max_iter=1000, random_state=42)\n",
    "logistic_model_scaled.fit(X_train_scaled, y_train)\n",
    "\n",
    "y_val_pred_scaled = logistic_model_scaled.predict(X_val_scaled)\n",
    "y_test_pred_scaled = logistic_model_scaled.predict(X_test_scaled)\n",
    "\n",
    "val_acc_scaled = accuracy_score(y_val, y_val_pred_scaled)\n",
    "test_acc_scaled = accuracy_score(y_test, y_test_pred_scaled)\n",
    "\n",
    "print(\"Logistic Regression WITH Scaling\")\n",
    "print(f\"Validation Accuracy: {val_acc_scaled:.4f}\")\n",
    "print(f\"Test Accuracy: {test_acc_scaled:.4f}\")\n",
    "print(\"\\nClassification Report (Validation):\\n\", classification_report(y_val, y_val_pred_scaled))\n"
   ]
  },
  {
   "cell_type": "markdown",
   "id": "665b3cb4",
   "metadata": {},
   "source": [
    "### K-Nearest Neighbors (KNN) - With and Without Feature Scaling"
   ]
  },
  {
   "cell_type": "code",
   "execution_count": 8,
   "id": "498a9ebe",
   "metadata": {},
   "outputs": [
    {
     "name": "stdout",
     "output_type": "stream",
     "text": [
      "KNN WITHOUT Scaling\n",
      "Validation Accuracy: 0.6667\n",
      "Test Accuracy: 0.6344\n",
      "\n",
      "Classification Report (Validation):\n",
      "               precision    recall  f1-score   support\n",
      "\n",
      "           0       0.42      0.21      0.28        38\n",
      "           1       0.71      0.87      0.78        85\n",
      "\n",
      "    accuracy                           0.67       123\n",
      "   macro avg       0.57      0.54      0.53       123\n",
      "weighted avg       0.62      0.67      0.63       123\n",
      "\n",
      "KNN WITH Scaling\n",
      "Validation Accuracy: 0.7317\n",
      "Test Accuracy: 0.8280\n",
      "\n",
      "Classification Report (Validation):\n",
      "               precision    recall  f1-score   support\n",
      "\n",
      "           0       0.62      0.34      0.44        38\n",
      "           1       0.75      0.91      0.82        85\n",
      "\n",
      "    accuracy                           0.73       123\n",
      "   macro avg       0.69      0.62      0.63       123\n",
      "weighted avg       0.71      0.73      0.71       123\n",
      "\n"
     ]
    }
   ],
   "source": [
    "# (1) KNN WITHOUT Scaling\n",
    "knn_raw = KNeighborsClassifier(n_neighbors=5)\n",
    "knn_raw.fit(X_train, y_train)\n",
    "\n",
    "y_val_pred_knn_raw = knn_raw.predict(X_val)\n",
    "y_test_pred_knn_raw = knn_raw.predict(X_test)\n",
    "\n",
    "val_acc_knn_raw = accuracy_score(y_val, y_val_pred_knn_raw)\n",
    "test_acc_knn_raw = accuracy_score(y_test, y_test_pred_knn_raw)\n",
    "\n",
    "print(\"KNN WITHOUT Scaling\")\n",
    "print(f\"Validation Accuracy: {val_acc_knn_raw:.4f}\")\n",
    "print(f\"Test Accuracy: {test_acc_knn_raw:.4f}\")\n",
    "print(\"\\nClassification Report (Validation):\\n\", classification_report(y_val, y_val_pred_knn_raw))\n",
    "\n",
    "\n",
    "# (2) KNN WITH Scaling\n",
    "knn_scaled = KNeighborsClassifier(n_neighbors=5)\n",
    "knn_scaled.fit(X_train_scaled, y_train)\n",
    "\n",
    "y_val_pred_knn_scaled = knn_scaled.predict(X_val_scaled)\n",
    "y_test_pred_knn_scaled = knn_scaled.predict(X_test_scaled)\n",
    "\n",
    "val_acc_knn_scaled = accuracy_score(y_val, y_val_pred_knn_scaled)\n",
    "test_acc_knn_scaled = accuracy_score(y_test, y_test_pred_knn_scaled)\n",
    "\n",
    "print(\"KNN WITH Scaling\")\n",
    "print(f\"Validation Accuracy: {val_acc_knn_scaled:.4f}\")\n",
    "print(f\"Test Accuracy: {test_acc_knn_scaled:.4f}\")\n",
    "print(\"\\nClassification Report (Validation):\\n\", classification_report(y_val, y_val_pred_knn_scaled))\n"
   ]
  },
  {
   "cell_type": "markdown",
   "id": "3e020e40",
   "metadata": {},
   "source": [
    "### Artificial Neural Network (ANN) - With and Without Feature Scaling"
   ]
  },
  {
   "cell_type": "code",
   "execution_count": 9,
   "id": "b72b1b0e",
   "metadata": {},
   "outputs": [
    {
     "name": "stdout",
     "output_type": "stream",
     "text": [
      "ANN WITHOUT Scaling\n",
      "Validation Accuracy: 0.6585\n",
      "Test Accuracy: 0.6882\n",
      "\n",
      "Classification Report (Validation):\n",
      "               precision    recall  f1-score   support\n",
      "\n",
      "           0       0.00      0.00      0.00        38\n",
      "           1       0.68      0.95      0.79        85\n",
      "\n",
      "    accuracy                           0.66       123\n",
      "   macro avg       0.34      0.48      0.40       123\n",
      "weighted avg       0.47      0.66      0.55       123\n",
      "\n",
      "ANN WITH Scaling\n",
      "Validation Accuracy: 0.6992\n",
      "Test Accuracy: 0.7742\n",
      "\n",
      "Classification Report (Validation):\n",
      "               precision    recall  f1-score   support\n",
      "\n",
      "           0       0.51      0.50      0.51        38\n",
      "           1       0.78      0.79      0.78        85\n",
      "\n",
      "    accuracy                           0.70       123\n",
      "   macro avg       0.65      0.64      0.65       123\n",
      "weighted avg       0.70      0.70      0.70       123\n",
      "\n"
     ]
    },
    {
     "name": "stderr",
     "output_type": "stream",
     "text": [
      "d:\\software\\python\\Lib\\site-packages\\sklearn\\neural_network\\_multilayer_perceptron.py:780: ConvergenceWarning: Stochastic Optimizer: Maximum iterations (2000) reached and the optimization hasn't converged yet.\n",
      "  warnings.warn(\n"
     ]
    }
   ],
   "source": [
    "# (1) ANN WITHOUT Scaling\n",
    "ann_raw = MLPClassifier(hidden_layer_sizes=(64,), max_iter=1000, random_state=42)\n",
    "ann_raw.fit(X_train, y_train)\n",
    "\n",
    "y_val_pred_ann_raw = ann_raw.predict(X_val)\n",
    "y_test_pred_ann_raw = ann_raw.predict(X_test)\n",
    "\n",
    "val_acc_ann_raw = accuracy_score(y_val, y_val_pred_ann_raw)\n",
    "test_acc_ann_raw = accuracy_score(y_test, y_test_pred_ann_raw)\n",
    "\n",
    "print(\"ANN WITHOUT Scaling\")\n",
    "print(f\"Validation Accuracy: {val_acc_ann_raw:.4f}\")\n",
    "print(f\"Test Accuracy: {test_acc_ann_raw:.4f}\")\n",
    "print(\"\\nClassification Report (Validation):\\n\", classification_report(y_val, y_val_pred_ann_raw))\n",
    "\n",
    "\n",
    "# (2) ANN WITH Scaling\n",
    "ann_scaled = MLPClassifier(hidden_layer_sizes=(64,), max_iter=2000, random_state=42)\n",
    "ann_scaled.fit(X_train_scaled, y_train)\n",
    "\n",
    "y_val_pred_ann_scaled = ann_scaled.predict(X_val_scaled)\n",
    "y_test_pred_ann_scaled = ann_scaled.predict(X_test_scaled)\n",
    "\n",
    "val_acc_ann_scaled = accuracy_score(y_val, y_val_pred_ann_scaled)\n",
    "test_acc_ann_scaled = accuracy_score(y_test, y_test_pred_ann_scaled)\n",
    "\n",
    "print(\"ANN WITH Scaling\")\n",
    "print(f\"Validation Accuracy: {val_acc_ann_scaled:.4f}\")\n",
    "print(f\"Test Accuracy: {test_acc_ann_scaled:.4f}\")\n",
    "print(\"\\nClassification Report (Validation):\\n\", classification_report(y_val, y_val_pred_ann_scaled))\n"
   ]
  },
  {
   "cell_type": "markdown",
   "id": "512035b9",
   "metadata": {},
   "source": [
    "\n",
    "### 🔧 Feature Scaling (Summary)\n",
    "\n",
    "We applied feature scaling using `StandardScaler` to improve model performance. It is especially important for distance- and gradient-based models like KNN and ANN.\n"
   ]
  },
  {
   "cell_type": "markdown",
   "id": "8b7c896b",
   "metadata": {},
   "source": [
    "\n",
    "### 📊 Final Model Comparison\n",
    "\n",
    "| Model               | Validation Accuracy | Test Accuracy |\n",
    "|--------------------|---------------------|----------------|\n",
    "| Logistic Regression | 0.7805              | 0.8495         |\n",
    "| KNN                 | 0.7317              | 0.8280         |\n",
    "| ANN                 | 0.6992              | 0.7742         |\n",
    "\n",
    "**Conclusion:** Logistic Regression showed the best performance. Scaling significantly improved KNN and ANN results.\n"
   ]
  },
  {
   "cell_type": "markdown",
   "id": "b0af86aa",
   "metadata": {},
   "source": [
    "\n",
    "### So... does scaling even matter for Logistic Regression?\n",
    "\n",
    "Honestly, in this project — not really. We ran Logistic Regression on both the raw and scaled data, and the performance stayed basically the same. Accuracy, precision, recall, even the confusion matrix — they were all pretty much identical.\n",
    "\n",
    "And that’s actually kind of expected. Logistic Regression doesn’t rely on distances like KNN does. So whether your numbers are small or large doesn’t affect it that much.\n",
    "\n",
    "The models that really care about scaling are things like KNN and neural networks. They look at distances or do a bunch of math that’s sensitive to the size of numbers. Logistic Regression? Not so much.\n",
    "\n",
    "So yeah — scaling is super important in general, but in this specific case, it didn’t move the needle for Logistic Regression.\n"
   ]
  },
  {
   "cell_type": "markdown",
   "id": "07b7e179",
   "metadata": {},
   "source": [
    "### But if i use grid search"
   ]
  },
  {
   "cell_type": "code",
   "execution_count": 10,
   "id": "41724f66",
   "metadata": {},
   "outputs": [
    {
     "name": "stdout",
     "output_type": "stream",
     "text": [
      "Best Logistic Regression Params: {'C': 0.1, 'penalty': 'l1', 'solver': 'liblinear'}\n",
      "Val Accuracy: 0.7804878048780488\n",
      "Test Accuracy: 0.8494623655913979\n"
     ]
    }
   ],
   "source": [
    "\n",
    "# Logistic Regression with GridSearchCV\n",
    "param_grid_log = {\n",
    "    'C': [0.01, 0.1, 1, 10],\n",
    "    'penalty': ['l1', 'l2'],\n",
    "    'solver': ['liblinear']\n",
    "}\n",
    "\n",
    "grid_log = GridSearchCV(LogisticRegression(max_iter=1000), param_grid_log, cv=5, scoring='accuracy')\n",
    "grid_log.fit(X_train_scaled, y_train)\n",
    "\n",
    "best_log_model = grid_log.best_estimator_\n",
    "val_pred_log = best_log_model.predict(X_val_scaled)\n",
    "test_pred_log = best_log_model.predict(X_test_scaled)\n",
    "\n",
    "print(\"Best Logistic Regression Params:\", grid_log.best_params_)\n",
    "print(\"Val Accuracy:\", accuracy_score(y_val, val_pred_log))\n",
    "print(\"Test Accuracy:\", accuracy_score(y_test, test_pred_log))\n"
   ]
  },
  {
   "cell_type": "code",
   "execution_count": 11,
   "id": "8a4eccd2",
   "metadata": {},
   "outputs": [
    {
     "name": "stdout",
     "output_type": "stream",
     "text": [
      "Best KNN Params: {'n_neighbors': 6, 'weights': 'distance'}\n",
      "Val Accuracy: 0.7560975609756098\n",
      "Test Accuracy: 0.8387096774193549\n"
     ]
    }
   ],
   "source": [
    "\n",
    "# KNN with GridSearchCV\n",
    "param_grid_knn = {\n",
    "    'n_neighbors': list(range(1, 21)),\n",
    "    'weights': ['uniform', 'distance']\n",
    "}\n",
    "\n",
    "grid_knn = GridSearchCV(KNeighborsClassifier(), param_grid_knn, cv=5, scoring='accuracy')\n",
    "grid_knn.fit(X_train_scaled, y_train)\n",
    "\n",
    "best_knn_model = grid_knn.best_estimator_\n",
    "val_pred_knn = best_knn_model.predict(X_val_scaled)\n",
    "test_pred_knn = best_knn_model.predict(X_test_scaled)\n",
    "\n",
    "print(\"Best KNN Params:\", grid_knn.best_params_)\n",
    "print(\"Val Accuracy:\", accuracy_score(y_val, val_pred_knn))\n",
    "print(\"Test Accuracy:\", accuracy_score(y_test, test_pred_knn))\n"
   ]
  },
  {
   "cell_type": "code",
   "execution_count": 12,
   "id": "adc4c8aa",
   "metadata": {},
   "outputs": [
    {
     "name": "stderr",
     "output_type": "stream",
     "text": [
      "d:\\software\\python\\Lib\\site-packages\\sklearn\\neural_network\\_multilayer_perceptron.py:780: ConvergenceWarning: Stochastic Optimizer: Maximum iterations (1000) reached and the optimization hasn't converged yet.\n",
      "  warnings.warn(\n",
      "d:\\software\\python\\Lib\\site-packages\\sklearn\\neural_network\\_multilayer_perceptron.py:780: ConvergenceWarning: Stochastic Optimizer: Maximum iterations (1000) reached and the optimization hasn't converged yet.\n",
      "  warnings.warn(\n",
      "d:\\software\\python\\Lib\\site-packages\\sklearn\\neural_network\\_multilayer_perceptron.py:780: ConvergenceWarning: Stochastic Optimizer: Maximum iterations (1000) reached and the optimization hasn't converged yet.\n",
      "  warnings.warn(\n",
      "d:\\software\\python\\Lib\\site-packages\\sklearn\\neural_network\\_multilayer_perceptron.py:780: ConvergenceWarning: Stochastic Optimizer: Maximum iterations (1000) reached and the optimization hasn't converged yet.\n",
      "  warnings.warn(\n",
      "d:\\software\\python\\Lib\\site-packages\\sklearn\\neural_network\\_multilayer_perceptron.py:780: ConvergenceWarning: Stochastic Optimizer: Maximum iterations (1000) reached and the optimization hasn't converged yet.\n",
      "  warnings.warn(\n",
      "d:\\software\\python\\Lib\\site-packages\\sklearn\\neural_network\\_multilayer_perceptron.py:780: ConvergenceWarning: Stochastic Optimizer: Maximum iterations (1000) reached and the optimization hasn't converged yet.\n",
      "  warnings.warn(\n",
      "d:\\software\\python\\Lib\\site-packages\\sklearn\\neural_network\\_multilayer_perceptron.py:780: ConvergenceWarning: Stochastic Optimizer: Maximum iterations (1000) reached and the optimization hasn't converged yet.\n",
      "  warnings.warn(\n",
      "d:\\software\\python\\Lib\\site-packages\\sklearn\\neural_network\\_multilayer_perceptron.py:780: ConvergenceWarning: Stochastic Optimizer: Maximum iterations (1000) reached and the optimization hasn't converged yet.\n",
      "  warnings.warn(\n",
      "d:\\software\\python\\Lib\\site-packages\\sklearn\\neural_network\\_multilayer_perceptron.py:780: ConvergenceWarning: Stochastic Optimizer: Maximum iterations (1000) reached and the optimization hasn't converged yet.\n",
      "  warnings.warn(\n",
      "d:\\software\\python\\Lib\\site-packages\\sklearn\\neural_network\\_multilayer_perceptron.py:780: ConvergenceWarning: Stochastic Optimizer: Maximum iterations (1000) reached and the optimization hasn't converged yet.\n",
      "  warnings.warn(\n",
      "d:\\software\\python\\Lib\\site-packages\\sklearn\\neural_network\\_multilayer_perceptron.py:780: ConvergenceWarning: Stochastic Optimizer: Maximum iterations (1000) reached and the optimization hasn't converged yet.\n",
      "  warnings.warn(\n",
      "d:\\software\\python\\Lib\\site-packages\\sklearn\\neural_network\\_multilayer_perceptron.py:780: ConvergenceWarning: Stochastic Optimizer: Maximum iterations (1000) reached and the optimization hasn't converged yet.\n",
      "  warnings.warn(\n",
      "d:\\software\\python\\Lib\\site-packages\\sklearn\\neural_network\\_multilayer_perceptron.py:780: ConvergenceWarning: Stochastic Optimizer: Maximum iterations (1000) reached and the optimization hasn't converged yet.\n",
      "  warnings.warn(\n",
      "d:\\software\\python\\Lib\\site-packages\\sklearn\\neural_network\\_multilayer_perceptron.py:780: ConvergenceWarning: Stochastic Optimizer: Maximum iterations (1000) reached and the optimization hasn't converged yet.\n",
      "  warnings.warn(\n",
      "d:\\software\\python\\Lib\\site-packages\\sklearn\\neural_network\\_multilayer_perceptron.py:780: ConvergenceWarning: Stochastic Optimizer: Maximum iterations (1000) reached and the optimization hasn't converged yet.\n",
      "  warnings.warn(\n",
      "d:\\software\\python\\Lib\\site-packages\\sklearn\\neural_network\\_multilayer_perceptron.py:780: ConvergenceWarning: Stochastic Optimizer: Maximum iterations (1000) reached and the optimization hasn't converged yet.\n",
      "  warnings.warn(\n",
      "d:\\software\\python\\Lib\\site-packages\\sklearn\\neural_network\\_multilayer_perceptron.py:780: ConvergenceWarning: Stochastic Optimizer: Maximum iterations (1000) reached and the optimization hasn't converged yet.\n",
      "  warnings.warn(\n",
      "d:\\software\\python\\Lib\\site-packages\\sklearn\\neural_network\\_multilayer_perceptron.py:780: ConvergenceWarning: Stochastic Optimizer: Maximum iterations (1000) reached and the optimization hasn't converged yet.\n",
      "  warnings.warn(\n",
      "d:\\software\\python\\Lib\\site-packages\\sklearn\\neural_network\\_multilayer_perceptron.py:780: ConvergenceWarning: Stochastic Optimizer: Maximum iterations (1000) reached and the optimization hasn't converged yet.\n",
      "  warnings.warn(\n",
      "d:\\software\\python\\Lib\\site-packages\\sklearn\\neural_network\\_multilayer_perceptron.py:780: ConvergenceWarning: Stochastic Optimizer: Maximum iterations (1000) reached and the optimization hasn't converged yet.\n",
      "  warnings.warn(\n"
     ]
    },
    {
     "name": "stdout",
     "output_type": "stream",
     "text": [
      "Best ANN Params: {'alpha': 0.01, 'hidden_layer_sizes': (32,)}\n",
      "Val Accuracy: 0.7560975609756098\n",
      "Test Accuracy: 0.7956989247311828\n"
     ]
    },
    {
     "name": "stderr",
     "output_type": "stream",
     "text": [
      "d:\\software\\python\\Lib\\site-packages\\sklearn\\neural_network\\_multilayer_perceptron.py:780: ConvergenceWarning: Stochastic Optimizer: Maximum iterations (1000) reached and the optimization hasn't converged yet.\n",
      "  warnings.warn(\n"
     ]
    }
   ],
   "source": [
    "\n",
    "# ANN with GridSearchCV\n",
    "param_grid_ann = {\n",
    "    'hidden_layer_sizes': [(32,), (64,), (32, 32)],\n",
    "    'alpha': [0.0001, 0.001, 0.01]\n",
    "}\n",
    "\n",
    "grid_ann = GridSearchCV(MLPClassifier(max_iter=1000, random_state=42), param_grid_ann, cv=3, scoring='accuracy')\n",
    "grid_ann.fit(X_train_scaled, y_train)\n",
    "\n",
    "best_ann_model = grid_ann.best_estimator_\n",
    "val_pred_ann = best_ann_model.predict(X_val_scaled)\n",
    "test_pred_ann = best_ann_model.predict(X_test_scaled)\n",
    "\n",
    "print(\"Best ANN Params:\", grid_ann.best_params_)\n",
    "print(\"Val Accuracy:\", accuracy_score(y_val, val_pred_ann))\n",
    "print(\"Test Accuracy:\", accuracy_score(y_test, test_pred_ann))\n"
   ]
  },
  {
   "cell_type": "markdown",
   "id": "b9dcd831",
   "metadata": {},
   "source": [
    "\n",
    "### Model Accuracy Comparison (Validation / Test)\n",
    "\n",
    "| Model Variant        | Validation / Test Accuracy |\n",
    "|----------------------|----------------------------|\n",
    "| Logistic (Raw)       | 0.7805 / 0.8495            |\n",
    "| Logistic (Scaled)    | 0.7805 / 0.8495            |\n",
    "| Logistic (Grid)      | 0.7805 / 0.8495            |\n",
    "| KNN (Raw)            | 0.6344 / 0.6667            |\n",
    "| KNN (Scaled)         | 0.7317 / 0.8280            |\n",
    "| KNN (Grid)           | 0.7561 / 0.8387            |\n",
    "| ANN (Raw)            | 0.6585 / 0.6882            |\n",
    "| ANN (Scaled)         | 0.6992 / 0.7742            |\n",
    "| ANN (Grid)           | 0.7560 / 0.7956            |\n",
    "\n",
    "### Summary:\n",
    "\n",
    "- Scaling clearly improved KNN and ANN.\n",
    "- Logistic Regression was the most stable and accurate model acrros scenarios , achieving **84.95 accuracy** on the test set with ot without feature scaling.Thid suggest that the model is robust and does not heavily rely on scaling or hyperparameter tuning.\n",
    "- GridSearchCV consistently improved performance on ANN,KNN models and it's ineffective on Logistic Regreesion .\n",
    "- Best overall accuracy was from **Logistic Regression with GridSearch**.\n"
   ]
  }
 ],
 "metadata": {
  "kernelspec": {
   "display_name": "Python 3",
   "language": "python",
   "name": "python3"
  },
  "language_info": {
   "codemirror_mode": {
    "name": "ipython",
    "version": 3
   },
   "file_extension": ".py",
   "mimetype": "text/x-python",
   "name": "python",
   "nbconvert_exporter": "python",
   "pygments_lexer": "ipython3",
   "version": "3.13.5"
  }
 },
 "nbformat": 4,
 "nbformat_minor": 5
}
